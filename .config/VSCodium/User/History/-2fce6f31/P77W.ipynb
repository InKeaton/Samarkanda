{
    "cells": [
     {
      "cell_type": "markdown",
      "metadata": {},
      "source": [
       "# Una breve intro a jupyter notebook"
      ]
     },
     {
      "cell_type": "markdown",
      "metadata": {},
      "source": [
       "Da https://www.dataquest.io/blog/jupyter-notebook-tutorial/:\n",
       "\n",
       "<i>Jupyter notebook integra codice e output in un solo documento combinando visualizzazione, testo, formule, ecc...  \n",
       " Quest'organizzazione del contenuto favorisce uno sviluppo rapido e interattivo...</i>\n",
       " \n"
      ]
     },
     {
      "cell_type": "markdown",
      "metadata": {},
      "source": [
       "### Kernel e celle\n",
       "\n",
       "Ci sono due elementi fondamentali che dovete imparare a conoscere: le <font color=\"red\">celle</font> ed il <font color=\"red\">kernel</font>\n",
       "\n",
       "- Un kernel è un \"motore computazionale\" che esegue del codice\n",
       "- Una cell è un contenitore di testo che viene visualizzato nel notebook oppure di codice che viene eseguito dal kernel."
      ]
     },
     {
      "cell_type": "markdown",
      "metadata": {},
      "source": [
       "### Celle\n",
       "\n",
       "Siamo interessati a due tipi di celle in particoalre:\n",
       "\n",
       "- <i>cella di codice</i>, che contiene codice che viene eseguito dal kernel producendo un output visualizzato subito sotto \n",
       "- <i>cella Markdown</i> che contiene testo formattato appunto in linguaggio Markdown e ne visualizza l'output"
      ]
     },
     {
      "cell_type": "markdown",
      "metadata": {},
      "source": [
       "#### Le celle inserite fino a qui sono tutte di tipo Markdown!"
      ]
     },
     {
      "cell_type": "markdown",
      "metadata": {},
      "source": [
       "#### Per visualizzare il testo in Markdown basta cliccare due volte sulla cella...\n",
       "#### Proviamo ad aggiungere una nuova cella di testo:\n",
       "- Insert cell below\n",
       "- Run!"
      ]
     },
     {
      "cell_type": "markdown",
      "metadata": {},
      "source": [
       "# PROVA\n",
       "## PROVA\n",
       "### PROVA\n",
       "#### PROVA"
      ]
     },
     {
      "cell_type": "markdown",
      "metadata": {},
      "source": [
       "### Kernel\n",
       "\n",
       "Quando viene fatto il run di una cella di codice, le istruzioni vengono eseguite dal kernel e l'output prodotto viene \"ritornato\" alla cella che lo visualizza. <font color=\"blue\"> Lo stato del kernel persiste nel tempo e tra le varie celle, quindi si riferisce all'intero documento e non alle singole celle</font>"
      ]
     },
     {
      "cell_type": "markdown",
      "metadata": {},
      "source": [
       "#### Usiamo una cella di codice"
      ]
     },
     {
      "cell_type": "code",
      "execution_count": 2,
      "metadata": {},
      "outputs": [
       {
        "name": "stdout",
        "output_type": "stream",
        "text": [
         "Hello world!\n"
        ]
       }
      ],
      "source": [
       "# In una cella di codice possiamo inserire dei commenti, ossia righe che vengono ignorate dal kernel durante\n",
       "# l'esecuzione del codice\n",
       "print('Hello world!')"
      ]
     },
     {
      "cell_type": "markdown",
      "metadata": {},
      "source": [
       "### Let's code"
      ]
     },
     {
      "cell_type": "code",
      "execution_count": 3,
      "metadata": {},
      "outputs": [],
      "source": [
       "# Prima di tutto, dobbiamo importare le librerie che ci servono\n",
       "import numpy as np"
      ]
     },
     {
      "cell_type": "code",
      "execution_count": 5,
      "metadata": {},
      "outputs": [
       {
        "name": "stdout",
        "output_type": "stream",
        "text": [
         "La matrice è composta come segue:\n",
         "[[ 0  1  2  3  4  5]\n",
         " [10 11 12 13 14 15]\n",
         " [20 21 22 23 24 25]\n",
         " [30 31 32 33 34 35]\n",
         " [40 41 42 43 44 45]\n",
         " [50 51 52 53 54 55]]\n"
        ]
       }
      ],
      "source": [
       "# Definiamo una matrice esempio e procediamo a selezionarne porzioni separate\n",
       "matrice = np.array([[0,1,2,3,4,5], [10,11,12,13,14,15], [20,21,22,23,24,25],\n",
       "                    [30,31,32,33,34,35],[40,41,42,43,44,45],[50,51,52,53,54,55]])\n",
       "\n",
       "print(\"La matrice è composta come segue:\")\n",
       "print(matrice)\n"
      ]
     },
     {
      "cell_type": "code",
      "execution_count": 5,
      "metadata": {},
      "outputs": [
       {
        "name": "stdout",
        "output_type": "stream",
        "text": [
         "36\n",
         "(6, 6)\n"
        ]
       }
      ],
      "source": [
       "# Quali sono le dimensioni della matrice?\n",
       "print(np.size(matrice));\n",
       "print(np.shape(matrice));"
      ]
     },
     {
      "cell_type": "markdown",
      "metadata": {},
      "source": [
       "### Maneggando immagini (matrici!!!) ci troveremo spesso a dover accedere a sottoparti di esse. Impariamo come si fa!"
      ]
     },
     {
      "cell_type": "code",
      "execution_count": 7,
      "metadata": {},
      "outputs": [
       {
        "name": "stdout",
        "output_type": "stream",
        "text": [
         "Selezionamo la prima colonna ...\n",
         "[ 0 10 20 30 40 50]\n",
         "Selezionamo la prima riga ...\n",
         "[0 1 2 3 4 5]\n"
        ]
       }
      ],
      "source": [
       "print('Selezionamo la prima colonna ...')\n",
       "print(matrice[:,0])\n",
       "print('Selezionamo la prima riga ...')\n",
       "print(matrice[0,:])"
      ]
     },
     {
      "cell_type": "markdown",
      "metadata": {},
      "source": [
       "Come possiamo selezionare differenti porzioni di una matrice? \n",
       "Proviamo qualche esempio. "
      ]
     },
     {
      "cell_type": "code",
      "execution_count": 10,
      "metadata": {},
      "outputs": [
       {
        "data": {
         "text/plain": [
          "array([1, 2, 3, 4, 5])"
         ]
        },
        "execution_count": 10,
        "metadata": {},
        "output_type": "execute_result"
       }
      ],
      "source": [
       "matrice[0,1:6]\n"
      ]
     },
     {
      "cell_type": "code",
      "execution_count": 11,
      "metadata": {},
      "outputs": [
       {
        "data": {
         "text/plain": [
          "array([[44, 45],\n",
          "       [54, 55]])"
         ]
        },
        "execution_count": 11,
        "metadata": {},
        "output_type": "execute_result"
       }
      ],
      "source": [
       "matrice[4:,4:]"
      ]
     },
     {
      "cell_type": "code",
      "execution_count": 12,
      "metadata": {},
      "outputs": [
       {
        "data": {
         "text/plain": [
          "array([[20, 22, 24],\n",
          "       [40, 42, 44]])"
         ]
        },
        "execution_count": 12,
        "metadata": {},
        "output_type": "execute_result"
       }
      ],
      "source": [
       "matrice[2::2,::2]"
      ]
     },
     {
      "cell_type": "code",
      "execution_count": null,
      "metadata": {},
      "outputs": [],
      "source": [
       "matrice[2:3:2,::2]"
      ]
     },
     {
      "cell_type": "markdown",
      "metadata": {},
      "source": [
       "#### Come definire delle funzioni"
      ]
     },
     {
      "cell_type": "code",
      "execution_count": 6,
      "metadata": {},
      "outputs": [],
      "source": [
       "# definiamo una funzione che dato x calcola y = x*x + 2x -1\n",
       "def calcolaF(x):\n",
       "    y = x*x+2*x-1\n",
       "    return y"
      ]
     },
     {
      "cell_type": "code",
      "execution_count": 7,
      "metadata": {},
      "outputs": [
       {
        "data": {
         "text/plain": [
          "(6, 6)"
         ]
        },
        "execution_count": 7,
        "metadata": {},
        "output_type": "execute_result"
       }
      ],
      "source": [
       "# Adesso usiamo la funzione per generare una nuova matrice a partire da quella che abbiamo\n",
       "matrice2 = np.zeros(np.shape(matrice))\n",
       "np.shape(matrice2)"
      ]
     },
     {
      "cell_type": "code",
      "execution_count": 8,
      "metadata": {},
      "outputs": [],
      "source": [
       "for i in range(0,np.size(matrice,0)):\n",
       "    for j in range(0,np.size(matrice,1)):\n",
       "        matrice2[i,j]=calcolaF(matrice[i,j])"
      ]
     },
     {
      "cell_type": "code",
      "execution_count": 9,
      "metadata": {
       "scrolled": true
      },
      "outputs": [
       {
        "name": "stdout",
        "output_type": "stream",
        "text": [
         "[[-1.000e+00  2.000e+00  7.000e+00  1.400e+01  2.300e+01  3.400e+01]\n",
         " [ 1.190e+02  1.420e+02  1.670e+02  1.940e+02  2.230e+02  2.540e+02]\n",
         " [ 4.390e+02  4.820e+02  5.270e+02  5.740e+02  6.230e+02  6.740e+02]\n",
         " [ 9.590e+02  1.022e+03  1.087e+03  1.154e+03  1.223e+03  1.294e+03]\n",
         " [ 1.679e+03  1.762e+03  1.847e+03  1.934e+03  2.023e+03  2.114e+03]\n",
         " [ 2.599e+03  2.702e+03  2.807e+03  2.914e+03  3.023e+03  3.134e+03]]\n"
        ]
       }
      ],
      "source": [
       "print(matrice2)"
      ]
     },
     {
      "cell_type": "code",
      "execution_count": null,
      "metadata": {},
      "outputs": [],
      "source": []
     }
    ],
    "metadata": {
     "kernelspec": {
      "display_name": "Python 3 (ipykernel)",
      "language": "python",
      "name": "python3"
     },
     "language_info": {
      "codemirror_mode": {
       "name": "ipython",
       "version": 3
      },
      "file_extension": ".py",
      "mimetype": "text/x-python",
      "name": "python",
      "nbconvert_exporter": "python",
      "pygments_lexer": "ipython3",
      "version": "3.11.3"
     }
    },
    "nbformat": 4,
    "nbformat_minor": 2
   }
   