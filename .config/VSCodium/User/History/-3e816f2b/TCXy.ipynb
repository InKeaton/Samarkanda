{
 "cells": [
  {
   "cell_type": "code",
   "execution_count": 1,
   "id": "a0a811ae-e591-4347-869d-01a0281d47df",
   "metadata": {},
   "outputs": [],
   "source": [
    "import numpy as np\n",
    "import matplotlib.pyplot as plt\n",
    "import scipy.io.wavfile as wav\n",
    "import IPython\n",
    "import warnings\n",
    "warnings.filterwarnings(\"ignore\")\n",
    "%matplotlib inline"
   ]
  },
  {
   "cell_type": "markdown",
   "metadata": {},
   "source": [
    "# Lo-fi Music\n",
    "[![Alt text](res/img/lofi-girl-music.gif \"lo-fi girl\")](https://www.youtube.com/watch?v=jfKfPfyJRdk)\n",
    "\n",
    "## What is it?\n",
    "+ **Lo-fi** (_low fidelity_) is a genre of music which aims to recreate the feeling of older, **low quality recordings**. As such, those tracks are brought closer to white noise, which is considered by many as **soothing**, and **relaxing**. \n",
    "+ Because of this, lo-fi music is usually used as **background music for work and study**."
   ]
  },
  {
   "cell_type": "markdown",
   "metadata": {},
   "source": [
    "## How does it work?\n",
    "\n",
    "+ The tecniques used to achieve this effect are various:\n",
    "    + Simple arrangements\n",
    "    + Looping of certain track sections\n",
    "    + Slow BPMs (60 – 90 BPM)  \n",
    "+ Some of them relate to the post-processing of the tracks:\n",
    "    + Low-pass filters\n",
    "    + Tape Saturation\n",
    "    + Wow and flutter\n",
    "    + Adding noise to the track "
   ]
  },
  {
   "cell_type": "code",
   "execution_count": null,
   "id": "d3b4a769-c70a-4b80-9f62-d126eeaba5c1",
   "metadata": {},
   "outputs": [],
   "source": []
  }
 ],
 "metadata": {
  "kernelspec": {
   "display_name": "Python 3 (ipykernel)",
   "language": "python",
   "name": "python3"
  },
  "language_info": {
   "codemirror_mode": {
    "name": "ipython",
    "version": 3
   },
   "file_extension": ".py",
   "mimetype": "text/x-python",
   "name": "python",
   "nbconvert_exporter": "python",
   "pygments_lexer": "ipython3",
   "version": "3.12.0"
  }
 },
 "nbformat": 4,
 "nbformat_minor": 5
}
