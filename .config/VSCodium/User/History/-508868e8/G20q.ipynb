{
 "cells": [
  {
   "cell_type": "code",
   "execution_count": 1,
   "metadata": {},
   "outputs": [],
   "source": [
    "import numpy as np\n",
    "import math as mt\n",
    "import matplotlib.pyplot as plt\n",
    "import scipy.io.wavfile as wav\n",
    "from scipy import signal\n",
    "import IPython\n",
    "import warnings\n",
    "from pylab import *\n",
    "warnings.filterwarnings(\"ignore\")\n",
    "%matplotlib inline"
   ]
  },
  {
   "cell_type": "markdown",
   "metadata": {},
   "source": [
    "# Testiamo i filtri su suoni complessi!"
   ]
  },
  {
   "cell_type": "markdown",
   "metadata": {},
   "source": [
    "### Low End Head Bumps\n",
    "+ Achieved via a peak filter:\n",
    "\n",
    "    + DARE NOMI CORRETTI A VARIABILI\n",
    "\n",
    "$$HB(x) = 1 + \\frac{H_0}{2} \\cdot [1 - A_2(x)]$$\n",
    "\n",
    "+ Where A2 is\n",
    "\n",
    "$$A_2(x) = \\cfrac{-\\frac{CB}{C} + d \\cdot ( 1 -\\frac{CB}{C}) \\cdot x^{-1} + x^{-2}}{ 1 + d \\cdot ( 1 -\\frac{CB}{C}) \\cdot x^{-1} - \\frac {CB}{Cx^{-2}}}$$"
   ]
  },
  {
   "cell_type": "code",
   "execution_count": 2,
   "metadata": {},
   "outputs": [],
   "source": [
    "def head_bumps(track, fs, fc, bw, G): \n",
    "    # normalized center frequency\n",
    "    # reccomended between 45-100Hz\n",
    "    Wc = (2*fc)/fs\n",
    "\n",
    "    # normalized bandwidth\n",
    "    # reccomended between 50-200Hz\n",
    "    Wb = (2*bw)/fs\n",
    "    \n",
    "    V0 = mt.pow(10, (G/20))\n",
    "    H0 = V0 - 1\n",
    "\n",
    "    if (G >= 0):\n",
    "        # boost\n",
    "        c = (np.tan((np.pi*Wb)/2)-1) / (np.tan((np.pi*Wb)/2)+1) \n",
    "    else:\n",
    "        # cut\n",
    "        c = (np.tan((np.pi*Wb)/2)-V0) / (np.tan((np.pi*Wb)/2)+V0) \n",
    "\n",
    "    d = -np.cos(np.pi*Wc)\n",
    "\n",
    "    track_h = [0, 0]\n",
    "    out = np.zeros_like(track)\n",
    "\n",
    "    for n in range(1, len(track)):\n",
    "        track_h_new = track[n] - d*(1-c)*track_h[0] + c*track_h[1]\n",
    "        ap_y = -c * track_h_new + d*(1-c)*track_h[0] + track_h[1]\n",
    "        track_h = [track_h_new, track_h[0]]\n",
    "        out[n] = 0.5 * H0 * (track[n] - ap_y) + track[n]\n",
    "    return out"
   ]
  },
  {
   "cell_type": "markdown",
   "metadata": {},
   "source": [
    "### Tape Saturation\n",
    "+ Achieved via a ArcTan filter:\n",
    "\n",
    "$$ TP(x) = 2\\pi \\arctan(\\alpha \\cdot x)$$"
   ]
  },
  {
   "cell_type": "code",
   "execution_count": 3,
   "metadata": {},
   "outputs": [],
   "source": [
    "def tape_sat(track, alpha):\n",
    "    out = np.zeros_like(track)\n",
    "\n",
    "    for n in range (1, len(track)):\n",
    "        out[n] = 2 * np.pi * np.arctan(alpha * track[n]) \n",
    "    return out"
   ]
  },
  {
   "cell_type": "markdown",
   "metadata": {},
   "source": [
    "### Wows and Flutters\n",
    "+ Achieved via a Vibrato filter"
   ]
  },
  {
   "cell_type": "code",
   "execution_count": 4,
   "metadata": {},
   "outputs": [],
   "source": [
    "def vibrato(track, samplerate, modfreq, width):\n",
    "    # Normalized modulation width\n",
    "    width_samples = round(width * samplerate)\n",
    "    \n",
    "    # Normalized modulation frequency\n",
    "    modfreq_samples = modfreq / samplerate\n",
    "    \n",
    "    # Number of samples in sound\n",
    "    length_track = len(track)\n",
    "    \n",
    "    # Length of the entire delay\n",
    "    L = 2 + width_samples * 3\n",
    "    \n",
    "    # Memory allocation for delay\n",
    "    delay_line = np.zeros(L)\n",
    "    \n",
    "    # Memory allocation for output vector\n",
    "    y = np.zeros_like(track)\n",
    "\n",
    "    ya_alt=0\n",
    "    \n",
    "    for n in range(1, length_track):\n",
    "        mod = np.sin(modfreq_samples * 2 * np.pi * n)\n",
    "        tap = 1 + width_samples * 2 * mod\n",
    "        i = int(np.floor(tap))\n",
    "        frac = tap - i\n",
    "        \n",
    "        delay_line = np.concatenate(([track[n]], delay_line[:L-1]))\n",
    "\n",
    "        # Linear Interpolation\n",
    "        y[n] = delay_line[i+1] * frac + delay_line[i] * (1 - frac)\n",
    "\n",
    "        # Allpass Interpolation \n",
    "        # y[n] = delay_line[i + 1] + (1 - frac) * delay_line[i] - (1 - frac) * ya_alt\n",
    "        # ya_alt = y[n]\n",
    "        \n",
    "        # Spline Interpolation \n",
    "        # y[n] = (delay_line[i + 1] * frac**3 / 6\n",
    "        #         + delay_line[i] * ((1 + frac)**3 - 4 * frac**3) / 6\n",
    "        #         + delay_line[i - 1] * ((2 - frac)**3 - 4 * (1 - frac)**3) / 6\n",
    "        #         + delay_line[i - 2] * (1 - frac)**3 / 6)\n",
    "    \n",
    "    return y"
   ]
  }
 ],
 "metadata": {
  "kernelspec": {
   "display_name": "test",
   "language": "python",
   "name": "python3"
  },
  "language_info": {
   "codemirror_mode": {
    "name": "ipython",
    "version": 3
   },
   "file_extension": ".py",
   "mimetype": "text/x-python",
   "name": "python",
   "nbconvert_exporter": "python",
   "pygments_lexer": "ipython3",
   "version": "3.12.0"
  }
 },
 "nbformat": 4,
 "nbformat_minor": 2
}
