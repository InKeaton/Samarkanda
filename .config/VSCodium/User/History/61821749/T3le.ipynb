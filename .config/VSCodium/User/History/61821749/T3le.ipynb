{
 "cells": [
  {
   "cell_type": "code",
   "execution_count": 3,
   "metadata": {},
   "outputs": [
    {
     "ename": "ModuleNotFoundError",
     "evalue": "No module named 'numpy'",
     "output_type": "error",
     "traceback": [
      "\u001b[0;31m---------------------------------------------------------------------------\u001b[0m",
      "\u001b[0;31mModuleNotFoundError\u001b[0m                       Traceback (most recent call last)",
      "\u001b[1;32m/home/inkeaton/Codice/Unige/Anno 3/FESI/filtraggio1d.ipynb Cell 1\u001b[0m line \u001b[0;36m1\n\u001b[0;32m----> <a href='vscode-notebook-cell:/home/inkeaton/Codice/Unige/Anno%203/FESI/filtraggio1d.ipynb#W0sZmlsZQ%3D%3D?line=0'>1</a>\u001b[0m \u001b[39mimport\u001b[39;00m \u001b[39mnumpy\u001b[39;00m \u001b[39mas\u001b[39;00m \u001b[39mnp\u001b[39;00m\n\u001b[1;32m      <a href='vscode-notebook-cell:/home/inkeaton/Codice/Unige/Anno%203/FESI/filtraggio1d.ipynb#W0sZmlsZQ%3D%3D?line=1'>2</a>\u001b[0m \u001b[39mimport\u001b[39;00m \u001b[39mmatplotlib\u001b[39;00m\u001b[39m.\u001b[39;00m\u001b[39mpyplot\u001b[39;00m \u001b[39mas\u001b[39;00m \u001b[39mplt\u001b[39;00m\n",
      "\u001b[0;31mModuleNotFoundError\u001b[0m: No module named 'numpy'"
     ]
    }
   ],
   "source": [
    "%matplotlib inline\n",
    "import numpy as np\n",
    "import matplotlib.pyplot as plt"
   ]
  },
  {
   "cell_type": "markdown",
   "metadata": {},
   "source": [
    "# Hands on signal filtering\n",
    "\n",
    "Let's start by preparing a synthetic signal"
   ]
  },
  {
   "cell_type": "code",
   "execution_count": null,
   "metadata": {},
   "outputs": [
    {
     "ename": "NameError",
     "evalue": "name 'np' is not defined",
     "output_type": "error",
     "traceback": [
      "\u001b[0;31m---------------------------------------------------------------------------\u001b[0m",
      "\u001b[0;31mNameError\u001b[0m                                 Traceback (most recent call last)",
      "\u001b[1;32m/home/inkeaton/Codice/Unige/Anno 3/FESI/filtraggio1d.ipynb Cell 3\u001b[0m line \u001b[0;36m5\n\u001b[1;32m      <a href='vscode-notebook-cell:/home/inkeaton/Codice/Unige/Anno%203/FESI/filtraggio1d.ipynb#W2sZmlsZQ%3D%3D?line=2'>3</a>\u001b[0m f \u001b[39m=\u001b[39m \u001b[39m1.0\u001b[39m \u001b[39m# Hz # sinusoidal signal frequency\u001b[39;00m\n\u001b[1;32m      <a href='vscode-notebook-cell:/home/inkeaton/Codice/Unige/Anno%203/FESI/filtraggio1d.ipynb#W2sZmlsZQ%3D%3D?line=3'>4</a>\u001b[0m T \u001b[39m=\u001b[39m \u001b[39m3.0\u001b[39m;\n\u001b[0;32m----> <a href='vscode-notebook-cell:/home/inkeaton/Codice/Unige/Anno%203/FESI/filtraggio1d.ipynb#W2sZmlsZQ%3D%3D?line=4'>5</a>\u001b[0m time \u001b[39m=\u001b[39m np\u001b[39m.\u001b[39marange(\u001b[39m0.0\u001b[39m, T, delta_s) \u001b[39m# sampling points at f_s frequency\u001b[39;00m\n\u001b[1;32m      <a href='vscode-notebook-cell:/home/inkeaton/Codice/Unige/Anno%203/FESI/filtraggio1d.ipynb#W2sZmlsZQ%3D%3D?line=5'>6</a>\u001b[0m N\u001b[39m=\u001b[39mtime\u001b[39m.\u001b[39msize; \n\u001b[1;32m      <a href='vscode-notebook-cell:/home/inkeaton/Codice/Unige/Anno%203/FESI/filtraggio1d.ipynb#W2sZmlsZQ%3D%3D?line=7'>8</a>\u001b[0m f \u001b[39m=\u001b[39m \u001b[39m5\u001b[39m\u001b[39m*\u001b[39mnp\u001b[39m.\u001b[39mcos(\u001b[39m2\u001b[39m \u001b[39m*\u001b[39m np\u001b[39m.\u001b[39mpi \u001b[39m*\u001b[39m f \u001b[39m*\u001b[39m time) \u001b[39m+\u001b[39m \u001b[39m1\u001b[39m\u001b[39m*\u001b[39m np\u001b[39m.\u001b[39mcos(\u001b[39m10\u001b[39m \u001b[39m*\u001b[39m \u001b[39m4\u001b[39m \u001b[39m*\u001b[39m np\u001b[39m.\u001b[39mpi \u001b[39m*\u001b[39m f \u001b[39m*\u001b[39m time) \u001b[39m+\u001b[39m \u001b[39m2\u001b[39m\u001b[39m*\u001b[39m np\u001b[39m.\u001b[39mcos(\u001b[39m3\u001b[39m \u001b[39m*\u001b[39m \u001b[39m2\u001b[39m \u001b[39m*\u001b[39m np\u001b[39m.\u001b[39mpi \u001b[39m*\u001b[39m f \u001b[39m*\u001b[39m time) \n",
      "\u001b[0;31mNameError\u001b[0m: name 'np' is not defined"
     ]
    }
   ],
   "source": [
    "delta_s = 1./100; #sampling interval\n",
    "f_s = 1./delta_s; #sampling frequency\n",
    "f = 1.0 # Hz # sinusoidal signal frequency\n",
    "T = 3.0;\n",
    "time = np.arange(0.0, T, delta_s) # sampling points at f_s frequency\n",
    "N=time.size; \n",
    "\n",
    "f = 5*np.cos(2 * np.pi * f * time) + 1* np.cos(10 * 4 * np.pi * f * time) + 2* np.cos(3 * 2 * np.pi * f * time) \n",
    "plt.plot(time, f)\n",
    "plt.xlabel(\"Time (sec)\")\n",
    "plt.ylabel(\"y\")"
   ]
  },
  {
   "cell_type": "markdown",
   "metadata": {},
   "source": [
    "We now compute its Fourier transform (DFT)"
   ]
  },
  {
   "cell_type": "code",
   "execution_count": null,
   "metadata": {},
   "outputs": [
    {
     "ename": "",
     "evalue": "",
     "output_type": "error",
     "traceback": [
      "\u001b[1;31mRunning cells with '/bin/python' requires the ipykernel package.\n",
      "\u001b[1;31mRun the following command to install 'ipykernel' into the Python environment. \n",
      "\u001b[1;31mCommand: '/bin/python -m pip install ipykernel -U --user --force-reinstall'"
     ]
    }
   ],
   "source": [
    "fft_f = np.fft.fft(f)\n",
    "n = len(fft_f) #array size\n",
    "\n",
    "freq = np.fft.fftfreq(n, 1/f_s)\n",
    "\n",
    "plt.plot(freq,np.abs(fft_f))  \n"
   ]
  },
  {
   "cell_type": "markdown",
   "metadata": {},
   "source": [
    "## Filters in the frequency domain\n",
    "\n",
    "### Thresholding\n",
    "\n",
    "We start off with a filtering by thresholding (hard cut-off)"
   ]
  },
  {
   "cell_type": "code",
   "execution_count": null,
   "metadata": {},
   "outputs": [
    {
     "ename": "",
     "evalue": "",
     "output_type": "error",
     "traceback": [
      "\u001b[1;31mRunning cells with '/bin/python' requires the ipykernel package.\n",
      "\u001b[1;31mRun the following command to install 'ipykernel' into the Python environment. \n",
      "\u001b[1;31mCommand: '/bin/python -m pip install ipykernel -U --user --force-reinstall'"
     ]
    }
   ],
   "source": [
    "idx = np.argwhere(np.abs(freq)>18)\n",
    "fft_cut=np.copy(fft_f)\n",
    "fft_cut[idx]=0\n",
    "\n",
    "plt.plot(freq,np.abs(fft_cut) )\n",
    "plt.xlabel('f [Hz]')\n",
    "\n",
    "plt.grid()"
   ]
  },
  {
   "cell_type": "code",
   "execution_count": null,
   "metadata": {},
   "outputs": [
    {
     "ename": "",
     "evalue": "",
     "output_type": "error",
     "traceback": [
      "\u001b[1;31mRunning cells with '/bin/python' requires the ipykernel package.\n",
      "\u001b[1;31mRun the following command to install 'ipykernel' into the Python environment. \n",
      "\u001b[1;31mCommand: '/bin/python -m pip install ipykernel -U --user --force-reinstall'"
     ]
    }
   ],
   "source": [
    "f_cut=np.fft.ifft(fft_cut)\n",
    "plt.plot(np.real(f_cut))"
   ]
  },
  {
   "cell_type": "markdown",
   "metadata": {},
   "source": [
    "### Gaussian low pass in Fourier\n",
    "We now compute a gaussian low pass filter.\n",
    "It's interesting to see how it behaves for different choices of sigma"
   ]
  },
  {
   "cell_type": "code",
   "execution_count": null,
   "metadata": {},
   "outputs": [
    {
     "ename": "",
     "evalue": "",
     "output_type": "error",
     "traceback": [
      "\u001b[1;31mRunning cells with '/bin/python' requires the ipykernel package.\n",
      "\u001b[1;31mRun the following command to install 'ipykernel' into the Python environment. \n",
      "\u001b[1;31mCommand: '/bin/python -m pip install ipykernel -U --user --force-reinstall'"
     ]
    }
   ],
   "source": [
    "def gaussian(sigma,n):\n",
    "    x = np.linspace(-n//2,n//2, n)\n",
    "    bump = np.exp(-x**2/2.*sigma**2)\n",
    "    bump /= np.trapz(bump) # normalize the integral to 1\n",
    "    return x, bump"
   ]
  },
  {
   "cell_type": "code",
   "execution_count": null,
   "metadata": {},
   "outputs": [
    {
     "ename": "",
     "evalue": "",
     "output_type": "error",
     "traceback": [
      "\u001b[1;31mRunning cells with '/bin/python' requires the ipykernel package.\n",
      "\u001b[1;31mRun the following command to install 'ipykernel' into the Python environment. \n",
      "\u001b[1;31mCommand: '/bin/python -m pip install ipykernel -U --user --force-reinstall'"
     ]
    }
   ],
   "source": [
    "# define the gaussian in time\n",
    "x,y = gaussian(0.05,n) \n",
    "# compute the filter in frequency\n",
    "y_shifted = np.fft.fftshift(y)\n",
    "fft_gauss = np.fft.fft(y_shifted)\n",
    "\n",
    "plt.figure(figsize=(10,4))\n",
    "plt.subplot(1,2,1)\n",
    "plt.plot(y) \n",
    "plt.xlabel(\"time \")\n",
    "plt.title(\"Gaussian\")\n",
    "plt.subplot(1,2,2)\n",
    "plt.plot(fft_gauss)  \n",
    "plt.xlabel(\"frequency \")\n",
    "plt.title(\"Gaussian\")"
   ]
  },
  {
   "cell_type": "code",
   "execution_count": null,
   "metadata": {},
   "outputs": [
    {
     "ename": "",
     "evalue": "",
     "output_type": "error",
     "traceback": [
      "\u001b[1;31mRunning cells with '/bin/python' requires the ipykernel package.\n",
      "\u001b[1;31mRun the following command to install 'ipykernel' into the Python environment. \n",
      "\u001b[1;31mCommand: '/bin/python -m pip install ipykernel -U --user --force-reinstall'"
     ]
    }
   ],
   "source": [
    "# either I shift both functions or neither (i choose the latter)\n",
    "fft_filt = np.multiply(fft_f,fft_gauss)"
   ]
  },
  {
   "cell_type": "code",
   "execution_count": null,
   "metadata": {},
   "outputs": [
    {
     "ename": "",
     "evalue": "",
     "output_type": "error",
     "traceback": [
      "\u001b[1;31mRunning cells with '/bin/python' requires the ipykernel package.\n",
      "\u001b[1;31mRun the following command to install 'ipykernel' into the Python environment. \n",
      "\u001b[1;31mCommand: '/bin/python -m pip install ipykernel -U --user --force-reinstall'"
     ]
    }
   ],
   "source": [
    "#plt.plot(np.fft.fftshift(fft_filt))\n",
    "plt.figure(figsize=(10,4))\n",
    "plt.subplot(1,2,1)\n",
    "plt.plot(freq,np.abs(fft_f)) \n",
    "plt.xlabel(\"w \")\n",
    "plt.title(\"abs(DFT)\")\n",
    "plt.subplot(1,2,2)\n",
    "plt.plot(freq,np.abs(fft_filt))  \n",
    "plt.xlabel(\"w \")\n",
    "plt.title(\"abs(Filtered DFT)\")"
   ]
  },
  {
   "cell_type": "code",
   "execution_count": null,
   "metadata": {},
   "outputs": [
    {
     "ename": "",
     "evalue": "",
     "output_type": "error",
     "traceback": [
      "\u001b[1;31mRunning cells with '/bin/python' requires the ipykernel package.\n",
      "\u001b[1;31mRun the following command to install 'ipykernel' into the Python environment. \n",
      "\u001b[1;31mCommand: '/bin/python -m pip install ipykernel -U --user --force-reinstall'"
     ]
    }
   ],
   "source": [
    "# inverse DFT\n",
    "f_rec=np.fft.ifft(fft_filt)\n",
    "#plt.plot(time, y_rec.real) # real part of inverse FFT\n",
    "plt.plot(time,f_rec) #original signal\n",
    "plt.xlabel(\"Time (sec)\")\n",
    "plt.ylabel(\"y\")"
   ]
  },
  {
   "cell_type": "markdown",
   "metadata": {},
   "source": [
    "## Filtering on the time domain\n",
    "\n",
    "We apply convolution, using a windowed filter (approximating a gaussian)"
   ]
  },
  {
   "cell_type": "code",
   "execution_count": null,
   "metadata": {},
   "outputs": [
    {
     "ename": "",
     "evalue": "",
     "output_type": "error",
     "traceback": [
      "\u001b[1;31mRunning cells with '/bin/python' requires the ipykernel package.\n",
      "\u001b[1;31mRun the following command to install 'ipykernel' into the Python environment. \n",
      "\u001b[1;31mCommand: '/bin/python -m pip install ipykernel -U --user --force-reinstall'"
     ]
    }
   ],
   "source": [
    "from scipy import signal\n",
    "windowg = signal.windows.gaussian(51, std=17)\n",
    "plt.plot(windowg)\n",
    "plt.title(\"Gaussian window\")\n",
    "plt.ylabel(\"Amplitude\")\n",
    "plt.xlabel(\"Sample\")"
   ]
  },
  {
   "cell_type": "code",
   "execution_count": null,
   "metadata": {},
   "outputs": [
    {
     "ename": "",
     "evalue": "",
     "output_type": "error",
     "traceback": [
      "\u001b[1;31mRunning cells with '/bin/python' requires the ipykernel package.\n",
      "\u001b[1;31mRun the following command to install 'ipykernel' into the Python environment. \n",
      "\u001b[1;31mCommand: '/bin/python -m pip install ipykernel -U --user --force-reinstall'"
     ]
    }
   ],
   "source": [
    "from scipy.ndimage import convolve1d\n",
    "filt=convolve1d(f,windowg)\n",
    "plt.plot(filt)"
   ]
  },
  {
   "cell_type": "code",
   "execution_count": null,
   "metadata": {},
   "outputs": [
    {
     "ename": "",
     "evalue": "",
     "output_type": "error",
     "traceback": [
      "\u001b[1;31mRunning cells with '/bin/python' requires the ipykernel package.\n",
      "\u001b[1;31mRun the following command to install 'ipykernel' into the Python environment. \n",
      "\u001b[1;31mCommand: '/bin/python -m pip install ipykernel -U --user --force-reinstall'"
     ]
    }
   ],
   "source": [
    "# another filter\n",
    "window = signal.windows.hamming(51)\n",
    "plt.plot(window)\n",
    "plt.title(\"Hamming window\")\n",
    "plt.ylabel(\"Amplitude\")\n",
    "plt.xlabel(\"Sample\")"
   ]
  },
  {
   "cell_type": "markdown",
   "metadata": {},
   "source": [
    "## Impulsive noise..."
   ]
  },
  {
   "cell_type": "code",
   "execution_count": null,
   "metadata": {},
   "outputs": [
    {
     "ename": "",
     "evalue": "",
     "output_type": "error",
     "traceback": [
      "\u001b[1;31mRunning cells with '/bin/python' requires the ipykernel package.\n",
      "\u001b[1;31mRun the following command to install 'ipykernel' into the Python environment. \n",
      "\u001b[1;31mCommand: '/bin/python -m pip install ipykernel -U --user --force-reinstall'"
     ]
    }
   ],
   "source": [
    "f1 = np.copy(f)\n",
    "#adding impulsive noise\n",
    "f1[5] = f1[40] = 100\n",
    "plt.plot(f1)\n"
   ]
  },
  {
   "cell_type": "code",
   "execution_count": null,
   "metadata": {},
   "outputs": [
    {
     "ename": "",
     "evalue": "",
     "output_type": "error",
     "traceback": [
      "\u001b[1;31mRunning cells with '/bin/python' requires the ipykernel package.\n",
      "\u001b[1;31mRun the following command to install 'ipykernel' into the Python environment. \n",
      "\u001b[1;31mCommand: '/bin/python -m pip install ipykernel -U --user --force-reinstall'"
     ]
    }
   ],
   "source": [
    "filt1=convolve1d(f1,windowg)\n",
    "plt.plot(filt1)"
   ]
  },
  {
   "cell_type": "code",
   "execution_count": null,
   "metadata": {},
   "outputs": [
    {
     "ename": "",
     "evalue": "",
     "output_type": "error",
     "traceback": [
      "\u001b[1;31mRunning cells with '/bin/python' requires the ipykernel package.\n",
      "\u001b[1;31mRun the following command to install 'ipykernel' into the Python environment. \n",
      "\u001b[1;31mCommand: '/bin/python -m pip install ipykernel -U --user --force-reinstall'"
     ]
    }
   ],
   "source": [
    "# IT'S NON LINEAR! it's not a convolution\n",
    "filt_med=signal.medfilt(f, kernel_size=None) \n",
    "plt.plot(filt_med)"
   ]
  },
  {
   "cell_type": "code",
   "execution_count": null,
   "metadata": {},
   "outputs": [
    {
     "ename": "",
     "evalue": "",
     "output_type": "error",
     "traceback": [
      "\u001b[1;31mRunning cells with '/bin/python' requires the ipykernel package.\n",
      "\u001b[1;31mRun the following command to install 'ipykernel' into the Python environment. \n",
      "\u001b[1;31mCommand: '/bin/python -m pip install ipykernel -U --user --force-reinstall'"
     ]
    }
   ],
   "source": [
    "#now we would be ready to apply the usual low pass filter"
   ]
  }
 ],
 "metadata": {
  "kernelspec": {
   "display_name": "Python 3 (ipykernel)",
   "language": "python",
   "name": "python3"
  },
  "language_info": {
   "codemirror_mode": {
    "name": "ipython",
    "version": 3
   },
   "file_extension": ".py",
   "mimetype": "text/x-python",
   "name": "python",
   "nbconvert_exporter": "python",
   "pygments_lexer": "ipython3",
   "version": "3.11.5"
  }
 },
 "nbformat": 4,
 "nbformat_minor": 2
}
